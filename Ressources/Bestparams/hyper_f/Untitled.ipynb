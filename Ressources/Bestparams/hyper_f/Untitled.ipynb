{
 "cells": [
  {
   "cell_type": "code",
   "execution_count": 1,
   "id": "e8a4d71f-1ea1-43df-ba8d-8620a52df075",
   "metadata": {},
   "outputs": [
    {
     "name": "stderr",
     "output_type": "stream",
     "text": [
      "/tmp/ipykernel_364187/444224810.py:3: DeprecationWarning: \n",
      "Pyarrow will become a required dependency of pandas in the next major release of pandas (pandas 3.0),\n",
      "(to allow more performant data types, such as the Arrow string type, and better interoperability with other libraries)\n",
      "but was not found to be installed on your system.\n",
      "If this would cause problems for you,\n",
      "please provide us feedback at https://github.com/pandas-dev/pandas/issues/54466\n",
      "        \n",
      "  import pandas as pd\n"
     ]
    }
   ],
   "source": [
    "import joblib\n",
    "import os\n",
    "import pandas as pd"
   ]
  },
  {
   "cell_type": "code",
   "execution_count": 2,
   "id": "c2a39c1c-a30e-41cd-9de5-e9f60e67f204",
   "metadata": {},
   "outputs": [
    {
     "data": {
      "text/plain": [
       "['HAT_hyper_fbest_params',\n",
       " 'retrain_EBM_hyper_f_best_params',\n",
       " 'retrain_TabSRALinear_hyper_f_best_params',\n",
       " '.ipynb_checkpoints',\n",
       " 'ARF_hyper_fbest_params',\n",
       " 'Untitled.ipynb',\n",
       " 'HT_hyper_fbest_params',\n",
       " 'retrain_XGBoost_hyper_f_best_params',\n",
       " 'LR_hyper_fbest_params',\n",
       " 'LB_HT_hyper_fbest_params',\n",
       " 'B_XGBoost_hyper_f_best_params',\n",
       " 'Update_TabSRALinear_hyper_f_best_params',\n",
       " 'LB_hyper_fbest_params',\n",
       " 'DT_hyper_f_best_params',\n",
       " 'B_EBM_hyper_f_best_params']"
      ]
     },
     "execution_count": 2,
     "metadata": {},
     "output_type": "execute_result"
    }
   ],
   "source": [
    "os.listdir()"
   ]
  },
  {
   "cell_type": "code",
   "execution_count": 3,
   "id": "6b886e4c-e7c6-4941-8d36-a6b3034fe974",
   "metadata": {},
   "outputs": [
    {
     "data": {
      "text/plain": [
       "{'objective_XGBoost': 0.028947179998564197,\n",
       " 'max_depth': 3,\n",
       " 'min_child_weight': 96,\n",
       " 'colsample_bytree': 0.8999999999999999,\n",
       " 'subsample': 0.7}"
      ]
     },
     "execution_count": 3,
     "metadata": {},
     "output_type": "execute_result"
    }
   ],
   "source": [
    "joblib.load(\"B_XGBoost_hyper_f_best_params\")"
   ]
  },
  {
   "cell_type": "code",
   "execution_count": 4,
   "id": "132621d4-313c-4c8d-b8aa-e75ea5b322a3",
   "metadata": {},
   "outputs": [
    {
     "data": {
      "text/plain": [
       "['B_XGBoost_hyper_f_best_params']"
      ]
     },
     "execution_count": 4,
     "metadata": {},
     "output_type": "execute_result"
    }
   ],
   "source": [
    "joblib.dump({\n",
    " 'max_depth': 3,\n",
    " 'min_child_weight': 96,\n",
    " 'colsample_bytree': 0.8999999999999999,\n",
    " 'subsample': 0.7},\"B_XGBoost_hyper_f_best_params\")"
   ]
  },
  {
   "cell_type": "code",
   "execution_count": null,
   "id": "8bd272c9-6dab-40df-8a12-7a38d5a3699b",
   "metadata": {},
   "outputs": [],
   "source": []
  },
  {
   "cell_type": "code",
   "execution_count": 5,
   "id": "62980013-c84c-43ea-bff4-a0035fdc244d",
   "metadata": {},
   "outputs": [
    {
     "data": {
      "text/plain": [
       "{'objective_XGBoost': 0.028947179998564197,\n",
       " 'max_depth': 3,\n",
       " 'min_child_weight': 96,\n",
       " 'colsample_bytree': 0.8999999999999999,\n",
       " 'subsample': 0.7}"
      ]
     },
     "execution_count": 5,
     "metadata": {},
     "output_type": "execute_result"
    }
   ],
   "source": [
    "joblib.load(\"retrain_XGBoost_hyper_f_best_params\")"
   ]
  },
  {
   "cell_type": "code",
   "execution_count": null,
   "id": "094249b7-bfac-4bb7-b92a-665439a2c1b5",
   "metadata": {},
   "outputs": [],
   "source": []
  },
  {
   "cell_type": "code",
   "execution_count": 6,
   "id": "37ee796d-ad56-455d-b6f7-0137eb519356",
   "metadata": {},
   "outputs": [
    {
     "data": {
      "text/plain": [
       "['retrain_XGBoost_hyper_f_best_params']"
      ]
     },
     "execution_count": 6,
     "metadata": {},
     "output_type": "execute_result"
    }
   ],
   "source": [
    "joblib.dump({\n",
    " 'max_depth': 3,\n",
    " 'min_child_weight': 96,\n",
    " 'colsample_bytree': 0.8999999999999999,\n",
    " 'subsample': 0.7},\"retrain_XGBoost_hyper_f_best_params\")"
   ]
  },
  {
   "cell_type": "code",
   "execution_count": null,
   "id": "2256be6f-e543-44a0-9334-fa115f13fc19",
   "metadata": {},
   "outputs": [],
   "source": []
  },
  {
   "cell_type": "code",
   "execution_count": 7,
   "id": "d4ca871c-5ad2-4059-ae43-7feb149d8703",
   "metadata": {},
   "outputs": [
    {
     "data": {
      "text/plain": [
       "{'n_models': 25, 'max_depth': 6, 'seed': 43}"
      ]
     },
     "execution_count": 7,
     "metadata": {},
     "output_type": "execute_result"
    }
   ],
   "source": [
    "joblib.load(\"ARF_hyper_fbest_params\")"
   ]
  },
  {
   "cell_type": "code",
   "execution_count": null,
   "id": "4f4e5588-2406-4216-af82-faaba39ddc48",
   "metadata": {},
   "outputs": [],
   "source": []
  }
 ],
 "metadata": {
  "kernelspec": {
   "display_name": "Python 3 (ipykernel)",
   "language": "python",
   "name": "python3"
  },
  "language_info": {
   "codemirror_mode": {
    "name": "ipython",
    "version": 3
   },
   "file_extension": ".py",
   "mimetype": "text/x-python",
   "name": "python",
   "nbconvert_exporter": "python",
   "pygments_lexer": "ipython3",
   "version": "3.9.12"
  }
 },
 "nbformat": 4,
 "nbformat_minor": 5
}
